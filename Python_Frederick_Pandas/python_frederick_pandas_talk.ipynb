{
 "cells": [
  {
   "cell_type": "markdown",
   "id": "arranged-marketing",
   "metadata": {
    "slideshow": {
     "slide_type": "slide"
    }
   },
   "source": [
    "<h1>Pandas for Data Analysis</h1>\n",
    "<br>\n",
    "<figure>\n",
    "    <img src=\"pandas_pic.png\" width=\"50%\">\n",
    "    <figcaption style=\"font-size:8px\"><em>Attribution: Smithsonian's National Zoo</em></figcaption>\n",
    "</figure>\n",
    "\n",
    "<h2>Python Frederick</h2>\n",
    "<h2>Speaker: Chris Malec</h2>"
   ]
  },
  {
   "cell_type": "markdown",
   "id": "stuffed-alpha",
   "metadata": {
    "slideshow": {
     "slide_type": "slide"
    }
   },
   "source": [
    "# Pandas\n",
    "\n",
    "- Created for Data analysis\n",
    "- Centered around a DataFrame object\n",
    "- Supports indexing, merging, and transforming data\n",
    "- Integrates well with other common libraries\n",
    "    - matplotlib\n",
    "    - plotly\n",
    "    - sci-kit learn\n",
    "    - numpy"
   ]
  },
  {
   "cell_type": "markdown",
   "id": "static-korea",
   "metadata": {
    "slideshow": {
     "slide_type": "slide"
    }
   },
   "source": [
    "## Creating Dataframes"
   ]
  },
  {
   "cell_type": "code",
   "execution_count": null,
   "id": "spiritual-beverage",
   "metadata": {
    "slideshow": {
     "slide_type": "subslide"
    }
   },
   "outputs": [],
   "source": [
    "#create dataframe from lists\n",
    "import pandas as pd\n",
    "letters = ['a','b','c','d']#some letters\n",
    "numbers = [1,2,3,4]#some numbers\n",
    "lists_df = pd.DataFrame(data={'letters':letters,\n",
    "                              'numbers':numbers})#data is a dictionary of lists\n",
    "display(lists_df)"
   ]
  },
  {
   "cell_type": "code",
   "execution_count": null,
   "id": "occupied-company",
   "metadata": {
    "slideshow": {
     "slide_type": "subslide"
    }
   },
   "outputs": [],
   "source": [
    "#create dataframe from numpy array\n",
    "import numpy as np\n",
    "numpy_data = np.array([1,2,3,4,5,6,7,8]).reshape(4,2) #a 4x2 array\n",
    "numpy_df = pd.DataFrame(data=numpy_data,columns = ['column_1','column_2'])#data is a numpy array\n",
    "display(numpy_df)"
   ]
  },
  {
   "cell_type": "code",
   "execution_count": null,
   "id": "successful-bibliography",
   "metadata": {
    "slideshow": {
     "slide_type": "subslide"
    }
   },
   "outputs": [],
   "source": [
    "#create dataframe from records, or a list of rows\n",
    "records = [('a',1),('b',2),('c',3),('d',4)]#a list of tuples\n",
    "records_df = pd.DataFrame.from_records(records,\n",
    "                                       columns = ['letters','numbers'])#data is a list of records\n",
    "display(records_df)"
   ]
  },
  {
   "cell_type": "code",
   "execution_count": null,
   "id": "seeing-aruba",
   "metadata": {
    "slideshow": {
     "slide_type": "subslide"
    }
   },
   "outputs": [],
   "source": [
    "#we will use this dataframe for the next few examples\n",
    "ex_df = pd.DataFrame.from_records(records,\n",
    "                                  columns = ['letters','numbers'],\n",
    "                                  index = ['first','second','third','fourth'])#add an index\n",
    "display(ex_df)"
   ]
  },
  {
   "cell_type": "markdown",
   "id": "continent-russell",
   "metadata": {
    "slideshow": {
     "slide_type": "slide"
    }
   },
   "source": [
    "## Selecting columns"
   ]
  },
  {
   "cell_type": "code",
   "execution_count": null,
   "id": "professional-england",
   "metadata": {
    "slideshow": {
     "slide_type": "subslide"
    }
   },
   "outputs": [],
   "source": [
    "# .loc is the primary way to locate both rows and columns\n",
    "display(ex_df.loc[:,['letters']]) #dataframe"
   ]
  },
  {
   "cell_type": "code",
   "execution_count": null,
   "id": "artistic-volume",
   "metadata": {
    "slideshow": {
     "slide_type": "subslide"
    }
   },
   "outputs": [],
   "source": [
    "display(ex_df.loc[:,'letters']) #series"
   ]
  },
  {
   "cell_type": "code",
   "execution_count": null,
   "id": "wound-wiring",
   "metadata": {
    "slideshow": {
     "slide_type": "subslide"
    }
   },
   "outputs": [],
   "source": [
    "display(ex_df.loc[:,[col for col in ex_df.columns if 'l' in col]])#select columns based on column name"
   ]
  },
  {
   "cell_type": "markdown",
   "id": "exact-birth",
   "metadata": {
    "slideshow": {
     "slide_type": "slide"
    }
   },
   "source": [
    "## Selecting rows"
   ]
  },
  {
   "cell_type": "code",
   "execution_count": null,
   "id": "metropolitan-width",
   "metadata": {
    "slideshow": {
     "slide_type": "subslide"
    }
   },
   "outputs": [],
   "source": [
    "display(ex_df.loc[['first','third'],:])#dataframe"
   ]
  },
  {
   "cell_type": "code",
   "execution_count": null,
   "id": "complex-longer",
   "metadata": {
    "slideshow": {
     "slide_type": "subslide"
    }
   },
   "outputs": [],
   "source": [
    "display(ex_df.loc['first',:])#series"
   ]
  },
  {
   "cell_type": "code",
   "execution_count": null,
   "id": "accompanied-repeat",
   "metadata": {
    "slideshow": {
     "slide_type": "subslide"
    }
   },
   "outputs": [],
   "source": [
    "display(ex_df.loc[ex_df['numbers']<=2,:])#filter rows based on number column"
   ]
  },
  {
   "cell_type": "code",
   "execution_count": null,
   "id": "identified-friend",
   "metadata": {
    "slideshow": {
     "slide_type": "subslide"
    }
   },
   "outputs": [],
   "source": [
    "display(ex_df.loc[ex_df.numbers<=2,:])#same thing, different way of specifying series"
   ]
  },
  {
   "cell_type": "code",
   "execution_count": null,
   "id": "baking-mills",
   "metadata": {
    "slideshow": {
     "slide_type": "skip"
    }
   },
   "outputs": [],
   "source": [
    "#grabbed this from stack overflow: https://stackoverflow.com/questions/38783027/jupyter-notebook-display-two-pandas-tables-side-by-side\n",
    "from IPython.display import display_html\n",
    "from itertools import chain,cycle\n",
    "def display_side_by_side(*args,titles=cycle([''])):\n",
    "    html_str='<table><tr style=\"background-color:white\">'\n",
    "    for df,title in zip(args, chain(titles,cycle(['</br>'])) ):\n",
    "        html_str+='<th style=\"text-align:center\"><td style=\"vertical-align:top\">'\n",
    "        html_str+=f'<h2>{title}</h2>'\n",
    "        html_str+=df.to_html().replace('table','table style=\"display:inline\"')\n",
    "        html_str+='</td></th>'\n",
    "    html_str+='</tr></table>'\n",
    "    display_html(html_str,raw=True)"
   ]
  },
  {
   "cell_type": "markdown",
   "id": "cardiac-onion",
   "metadata": {
    "slideshow": {
     "slide_type": "slide"
    }
   },
   "source": [
    "## Applying functions"
   ]
  },
  {
   "cell_type": "code",
   "execution_count": null,
   "id": "likely-mining",
   "metadata": {
    "slideshow": {
     "slide_type": "subslide"
    }
   },
   "outputs": [],
   "source": [
    "#apply functions\n",
    "def times_two(num):\n",
    "    return 2*num\n",
    "\n",
    "def to_upper(lett):\n",
    "    return lett.upper()\n",
    "\n",
    "transformed_df = ex_df.apply({'letters':to_upper,'numbers':times_two})\n",
    "display_side_by_side(ex_df,transformed_df,titles = ['Original','Transformed'])"
   ]
  },
  {
   "cell_type": "markdown",
   "id": "unsigned-harassment",
   "metadata": {
    "slideshow": {
     "slide_type": "slide"
    }
   },
   "source": [
    "## Combining tables"
   ]
  },
  {
   "cell_type": "code",
   "execution_count": null,
   "id": "differential-highway",
   "metadata": {
    "slideshow": {
     "slide_type": "subslide"
    }
   },
   "outputs": [],
   "source": [
    "#create two tables to merge\n",
    "ex_df2 = ex_df.apply({'numbers':times_two,'letters':lambda x:x}).rename(columns={'numbers':'2x_numbers'})\n",
    "display_side_by_side(ex_df,ex_df2,titles = ['Original','Transformed'])"
   ]
  },
  {
   "cell_type": "code",
   "execution_count": null,
   "id": "blond-reference",
   "metadata": {
    "slideshow": {
     "slide_type": "subslide"
    }
   },
   "outputs": [],
   "source": [
    "#merge on the 'letters' column\n",
    "merged_df = ex_df.merge(ex_df2,on='letters')\n",
    "display_side_by_side(ex_df,ex_df2,merged_df,titles = ['Left','Right','Merged'])"
   ]
  },
  {
   "cell_type": "code",
   "execution_count": null,
   "id": "tender-opposition",
   "metadata": {
    "slideshow": {
     "slide_type": "subslide"
    }
   },
   "outputs": [],
   "source": [
    "#join operates on indexes instead of columns\n",
    "joined_df = ex_df.join(ex_df2,lsuffix='_l',rsuffix='_r')\n",
    "display_side_by_side(ex_df,ex_df2,joined_df, titles = ['Left','Right','Joined'])"
   ]
  },
  {
   "cell_type": "code",
   "execution_count": null,
   "id": "suburban-token",
   "metadata": {
    "slideshow": {
     "slide_type": "subslide"
    }
   },
   "outputs": [],
   "source": [
    "#can specify different left and right merge columns\n",
    "merged_df = ex_df.merge(ex_df2,left_on='letters',right_on='letters')\n",
    "display_side_by_side(ex_df,ex_df2,merged_df, titles = ['Left','Right','Merged'])"
   ]
  },
  {
   "cell_type": "code",
   "execution_count": null,
   "id": "strategic-advisory",
   "metadata": {
    "slideshow": {
     "slide_type": "subslide"
    }
   },
   "outputs": [],
   "source": [
    "#Default is 'inner' join, so unmatched keys are dropped\n",
    "merged_df = ex_df.merge(ex_df2,left_on='numbers',right_on='2x_numbers')\n",
    "display_side_by_side(ex_df,ex_df2,merged_df,titles = ['Left','Right','Merged'])"
   ]
  },
  {
   "cell_type": "code",
   "execution_count": null,
   "id": "powered-organ",
   "metadata": {
    "slideshow": {
     "slide_type": "subslide"
    }
   },
   "outputs": [],
   "source": [
    "#You can specify the suffixes that appear when columns get duplicated\n",
    "merged_df = ex_df.merge(ex_df2,left_on='numbers',right_on='2x_numbers',suffixes=('_l','_r'))\n",
    "display_side_by_side(ex_df,ex_df2,merged_df,titles = ['Left','Right','Merged'])"
   ]
  },
  {
   "cell_type": "code",
   "execution_count": null,
   "id": "quality-manchester",
   "metadata": {
    "slideshow": {
     "slide_type": "subslide"
    }
   },
   "outputs": [],
   "source": [
    "#Specifying 'right' join causes *all* rows in the right dataframe to appear, \n",
    "#and fill in na's if they are unmatched by the left dataframe\n",
    "merged_df = ex_df.merge(ex_df2,left_on='numbers',right_on='2x_numbers',suffixes=('_l','_r'),how='right')\n",
    "display_side_by_side(ex_df,ex_df2,merged_df, titles = ['Left','Right','Merged'])"
   ]
  },
  {
   "cell_type": "code",
   "execution_count": null,
   "id": "cardiac-establishment",
   "metadata": {
    "slideshow": {
     "slide_type": "subslide"
    }
   },
   "outputs": [],
   "source": [
    "#Concatenation is more like a union\n",
    "ex_df2 = ex_df.apply({'numbers':times_two,'letters':lambda x:x})\n",
    "concatenated_df = pd.concat([ex_df,ex_df2],axis=0,ignore_index=True)\n",
    "display_side_by_side(ex_df,ex_df2,concatenated_df,titles = ['Left','Right','Concatenated'])"
   ]
  },
  {
   "cell_type": "code",
   "execution_count": null,
   "id": "bronze-thong",
   "metadata": {
    "slideshow": {
     "slide_type": "subslide"
    }
   },
   "outputs": [],
   "source": [
    "#concatenation along rows\n",
    "concatenated_df = pd.concat([ex_df,ex_df2],axis=1)\n",
    "display_side_by_side(ex_df,ex_df2,concatenated_df,titles = ['Left','Right','Concatenated'])"
   ]
  },
  {
   "cell_type": "code",
   "execution_count": null,
   "id": "detected-painting",
   "metadata": {
    "slideshow": {
     "slide_type": "subslide"
    }
   },
   "outputs": [],
   "source": [
    "#what happens when you duplicated columns\n",
    "display(concatenated_df['letters'])"
   ]
  },
  {
   "cell_type": "markdown",
   "id": "piano-neighborhood",
   "metadata": {
    "slideshow": {
     "slide_type": "slide"
    }
   },
   "source": [
    "## Plotting data"
   ]
  },
  {
   "cell_type": "code",
   "execution_count": null,
   "id": "weighted-caution",
   "metadata": {
    "slideshow": {
     "slide_type": "subslide"
    }
   },
   "outputs": [],
   "source": [
    "#create plots\n",
    "#from dataframe\n",
    "\n",
    "import matplotlib.pyplot as plt\n",
    "ex_df.set_index('letters').plot(kind='bar')\n",
    "plt.show()"
   ]
  },
  {
   "cell_type": "code",
   "execution_count": null,
   "id": "spoken-colon",
   "metadata": {
    "slideshow": {
     "slide_type": "subslide"
    }
   },
   "outputs": [],
   "source": [
    "#with plotly\n",
    "import plotly.express as px\n",
    "fig = px.bar(ex_df,\n",
    "             x = 'letters',\n",
    "             y = 'numbers')\n",
    "fig.update_layout(width=600,height=400)\n",
    "fig.show()"
   ]
  },
  {
   "cell_type": "markdown",
   "id": "artificial-induction",
   "metadata": {
    "slideshow": {
     "slide_type": "slide"
    }
   },
   "source": [
    "## Summarizing tables"
   ]
  },
  {
   "cell_type": "code",
   "execution_count": null,
   "id": "adjustable-technology",
   "metadata": {
    "slideshow": {
     "slide_type": "subslide"
    }
   },
   "outputs": [],
   "source": [
    "#create summary tables\n",
    "summary_df = ex_df.describe()\n",
    "display_side_by_side(ex_df,summary_df,titles = ['Original','Summary'])"
   ]
  },
  {
   "cell_type": "code",
   "execution_count": null,
   "id": "after-helicopter",
   "metadata": {
    "slideshow": {
     "slide_type": "subslide"
    }
   },
   "outputs": [],
   "source": [
    "#column summaries\n",
    "summary_df = ex_df.agg({'numbers':sum,'letters':min})\n",
    "display(ex_df,summary_df)"
   ]
  },
  {
   "cell_type": "code",
   "execution_count": null,
   "id": "polish-assessment",
   "metadata": {
    "slideshow": {
     "slide_type": "subslide"
    }
   },
   "outputs": [],
   "source": [
    "#groupby\n",
    "ex_group_df = pd.concat([ex_df,\n",
    "                         ex_df.shift(1).bfill().rename(index = dict((k,k+'_1') for k in ex_df.index)),\n",
    "                         ex_df.shift(-1).ffill().rename(index = dict((k,k+'_-1') for k in ex_df.index)),\n",
    "                         ex_df.shift(2).fillna(0).rename(index = dict((k,k+'_2') for k in ex_df.index))])\n",
    "\n",
    "display(ex_group_df)"
   ]
  },
  {
   "cell_type": "code",
   "execution_count": null,
   "id": "organic-commission",
   "metadata": {
    "slideshow": {
     "slide_type": "subslide"
    }
   },
   "outputs": [],
   "source": [
    "grouped_df = ex_group_df.groupby('letters').sum()#sum the numbers that correspond to a particular letter\n",
    "sorted_ex_group_df = ex_group_df.astype({'letters':'string'}).sort_values('letters')#make all entries strings and sort\n",
    "display_side_by_side(sorted_ex_group_df,grouped_df,titles = ['Original','Grouped'])"
   ]
  },
  {
   "cell_type": "code",
   "execution_count": null,
   "id": "infrared-internet",
   "metadata": {
    "slideshow": {
     "slide_type": "subslide"
    }
   },
   "outputs": [],
   "source": [
    "#multiple aggregations\n",
    "grouped_df = ex_group_df.groupby('letters').agg({'numbers':[min,max,sum,'count']})#create different aggregations for the same column\n",
    "sorted_ex_group_df = ex_group_df.astype({'letters':'string'}).sort_values('letters')\n",
    "display_side_by_side(sorted_ex_group_df,grouped_df,titles = ['Original','Multiple Aggregations '])"
   ]
  },
  {
   "cell_type": "code",
   "execution_count": null,
   "id": "julian-whale",
   "metadata": {
    "slideshow": {
     "slide_type": "subslide"
    }
   },
   "outputs": [],
   "source": [
    "#Indices and columns can have arbitrary number of levels\n",
    "grouped_df = ex_group_df.groupby('letters').agg({'numbers':[min,max,sum,'count']})\n",
    "print('Hierarchical: ',grouped_df.columns)\n",
    "grouped_df = grouped_df.reset_index()\n",
    "grouped_df2 = grouped_df.copy()#this is important\n",
    "grouped_df2.columns = grouped_df2.columns.droplevel()\n",
    "print('Flat: ',grouped_df2.columns)\n",
    "grouped_df2 = grouped_df2.reset_index().rename(columns={'':'letters'})\n",
    "display_side_by_side(grouped_df,grouped_df2,titles = ['Hierarchical','Flat'])"
   ]
  },
  {
   "cell_type": "code",
   "execution_count": null,
   "id": "twenty-fraud",
   "metadata": {
    "slideshow": {
     "slide_type": "subslide"
    }
   },
   "outputs": [],
   "source": [
    "#melt a dataframe, make several columns into two\n",
    "melted_df = grouped_df2.melt(id_vars = 'letters',\n",
    "                             value_vars = ['min','max','sum','count'],\n",
    "                             var_name = 'aggregation',\n",
    "                             value_name = 'value')\n",
    "\n",
    "#pivot dataframe, make two or more columns into many\n",
    "pivot_df = melted_df.pivot(index = 'letters',\n",
    "                           columns = 'aggregation',\n",
    "                           values = 'value')\n",
    "\n",
    "display_side_by_side(grouped_df2,melted_df,pivot_df,titles = ['Original','Melted','Pivoted'])"
   ]
  },
  {
   "cell_type": "markdown",
   "id": "collect-steal",
   "metadata": {
    "slideshow": {
     "slide_type": "slide"
    }
   },
   "source": [
    "## Real Life"
   ]
  },
  {
   "cell_type": "markdown",
   "id": "statutory-diversity",
   "metadata": {
    "slideshow": {
     "slide_type": "subslide"
    }
   },
   "source": [
    "## Concerns of real data\n",
    "- Null values are a lot more important\n",
    "- A lot of (sometimes non-sensical) datatypes\n",
    "- Just getting it from file to dataframe is probably half the battle\n",
    "- The size can easily get out of hand (keep it under about 5 million rows for pandas)"
   ]
  },
  {
   "cell_type": "markdown",
   "id": "connected-guide",
   "metadata": {
    "slideshow": {
     "slide_type": "subslide"
    }
   },
   "source": [
    "## Today's example data: IEX order book data\n",
    "- What is IEX?\n",
    "- What is an order book?\n",
    "- What is market manipulation?\n",
    "- What is Reg NMS?\n",
    "- How can anyone find manipulation?\n",
    "\n",
    "I don't intend to find any manipulation in this data set or make any 'grand conclusions,' but hopefully you'll see some useful things you can do with pandas and get a neat view of an important week in the equities market."
   ]
  },
  {
   "cell_type": "markdown",
   "id": "communist-venture",
   "metadata": {
    "slideshow": {
     "slide_type": "subslide"
    }
   },
   "source": [
    "### What is IEX?\n",
    "The [Investor's Exchange](https://iextrading.com/) is one of the 15 or so independent stock exchanges that operate in the U.S. It was featured in the Michael Lewis book [Flash Boys](https://en.wikipedia.org/wiki/Flash_Boys). They do their best to offer access to the market with protections in place that favor long-term over short-term strategies. They're pretty small compared to NYSE or NASDAQ, but they allow you to download pretty detailed historical data for free, even if it is a dump of network packets."
   ]
  },
  {
   "cell_type": "markdown",
   "id": "hired-curve",
   "metadata": {
    "slideshow": {
     "slide_type": "subslide"
    }
   },
   "source": [
    "### What is an order book?\n",
    "\n",
    "Every time a broker wants to make a trade, they put an an order (I want to buy 200 shares of stock A for $100 each). Until the order is canceled, or a seller is found that is willing to meet the buyer at their price, the order 'rests on the book.' Most heavily traded stocks do not have orders that rest long, unless the number of shares is exceptionally large or the price point is completely unreasonable.\n",
    "\n",
    "|time|side|quantity|price|\n",
    "|----|----|--------|-----|\n",
    "|9:30|B   |100     |45.00|\n",
    "|9:31|B   |200     |45.01|\n",
    "|9:31|S   |100     |45.05|\n",
    "|9:32|B   |50      |45.00|"
   ]
  },
  {
   "cell_type": "markdown",
   "id": "consecutive-property",
   "metadata": {
    "slideshow": {
     "slide_type": "subslide"
    }
   },
   "source": [
    "### What is market manipulation?\n",
    "\n",
    "This is relatively subjective, but the crux of many types of manipulation is 'are you engaging with the market in good faith?' In other words, are you placing orders onto the books because you would like to buy a stock at the price you stated (or at least hope someone will sell to you at that price), or are you sending false signals to manipulate at what prices people are willing to buy/sell.\n",
    "\n",
    "|time|side|quantity|price|firm   |\n",
    "|----|----|--------|-----|-------|\n",
    "|9:30|B   |100     |45.00|A      |\n",
    "|9:31|B   |200     |45.01|A      |\n",
    "|9:31|S   |100     |45.05|B      |\n",
    "|9:32|B   |50      |45.00|A      |\n",
    "|9:33|S   |100     |45.04|Manip  |\n",
    "|9:33|S   |200     |45.04|Manip  |\n",
    "|9:33|S   |500     |45.03|Manip  |\n",
    "|9:33|S   |100     |45.05|Manip  |\n",
    "|9:33|S   |400     |45.03|Manip  |\n",
    "|9:33|S   |100     |45.03|Manip  |\n",
    "|9:34|S   |600     |45.02|IllBite|\n",
    "|9:34|B   |600     |45.02|Manip  |"
   ]
  },
  {
   "cell_type": "markdown",
   "id": "nominated-emission",
   "metadata": {
    "slideshow": {
     "slide_type": "subslide"
    }
   },
   "source": [
    "### What is Reg NMS\n",
    "Reg NMS is an SEC rule that created the 'National Market System.' Stock exchanges became publicly traded companies and firms routing orders to the markets gained the obligation of 'best execution.' This generally means that if NYSE's order book has a stock selling at 45.05 and NASDAQ's order book has the same stock selling at 45.04, your buy order with Charles Schwab account needs to take the shares at NASDAQ at the better price.\n",
    "\n",
    "The regulation is intended to keep brokerages from giving customers a bad deal, but it also created a complicated set of rules that can be gamed."
   ]
  },
  {
   "cell_type": "markdown",
   "id": "authentic-banks",
   "metadata": {
    "slideshow": {
     "slide_type": "subslide"
    }
   },
   "source": [
    "### How can anyone find manipulation?\n",
    "\n",
    "Short answer: Regulators get to see much more detailed information than everyone else. It can be pretty difficult even with the extra information.\n"
   ]
  },
  {
   "cell_type": "code",
   "execution_count": null,
   "id": "unauthorized-tsunami",
   "metadata": {
    "slideshow": {
     "slide_type": "subslide"
    }
   },
   "outputs": [],
   "source": [
    "manip_df = pd.read_csv('example_manip.csv',\n",
    "                       sep=',',\n",
    "                       header=1)\n",
    "display(manip_df)"
   ]
  },
  {
   "cell_type": "code",
   "execution_count": null,
   "id": "informational-thesaurus",
   "metadata": {
    "slideshow": {
     "slide_type": "subslide"
    }
   },
   "outputs": [],
   "source": [
    "def string_to_timestamp(string):\n",
    "    timestamp_components = string.split(' ')\n",
    "    timestamp_string = 'T'.join(timestamp_components[:2])\n",
    "    return pd.to_datetime(timestamp_string)\n",
    "manip_df['timestamp'] = manip_df['Time'].apply(string_to_timestamp)\n",
    "manip_df"
   ]
  },
  {
   "cell_type": "code",
   "execution_count": null,
   "id": "refined-lawyer",
   "metadata": {
    "slideshow": {
     "slide_type": "subslide"
    }
   },
   "outputs": [],
   "source": [
    "import plotly.express as px\n",
    "import plotly.graph_objects as go\n",
    "fig = px.scatter(manip_df,\n",
    "                 x='timestamp',\n",
    "                 y='Price',\n",
    "                 symbol='Action',\n",
    "                 color='Firm',\n",
    "                 size='Quantity',\n",
    "                 color_discrete_sequence=['goldenrod','aqua','lightgreen'],\n",
    "                 opacity=.5)\n",
    "\n",
    "fig.add_trace(go.Scatter(x=manip_df['timestamp'],\n",
    "                         y=manip_df['NBO'],\n",
    "                         mode='lines',\n",
    "                         line_color='magenta',\n",
    "                         line_shape='hv',\n",
    "                         name='Best Bid'))\n",
    "\n",
    "fig.add_trace(go.Scatter(x=manip_df['timestamp'],\n",
    "                         y=manip_df['NBB'],\n",
    "                         mode='lines',\n",
    "                         line_color='cyan',\n",
    "                         line_shape='hv',\n",
    "                         name='Best Offer'))\n",
    "fig.update_layout(template='plotly_dark');"
   ]
  },
  {
   "cell_type": "code",
   "execution_count": null,
   "id": "supposed-membership",
   "metadata": {
    "slideshow": {
     "slide_type": "subslide"
    }
   },
   "outputs": [],
   "source": [
    "fig.show()"
   ]
  },
  {
   "cell_type": "markdown",
   "id": "threatened-alexander",
   "metadata": {
    "slideshow": {
     "slide_type": "slide"
    }
   },
   "source": [
    "## IEX Order Book for GME 1/22 - 1/28"
   ]
  },
  {
   "cell_type": "code",
   "execution_count": null,
   "id": "informed-priest",
   "metadata": {
    "slideshow": {
     "slide_type": "subslide"
    }
   },
   "outputs": [],
   "source": [
    "!xxd -l 112 -s 20000 ~/Downloads/data_feeds_20210122_20210122_IEXTP1_DEEP1.0.pcap"
   ]
  },
  {
   "cell_type": "code",
   "execution_count": null,
   "id": "moving-saver",
   "metadata": {
    "slideshow": {
     "slide_type": "subslide"
    }
   },
   "outputs": [],
   "source": [
    "#A lovely command line conversion of the binary to a json file\n",
    "#!pip install iex_parser\n",
    "#!iex_to_json -i iex_file.pcap.gz -o iex_file.json.gz -t 'GME' -s"
   ]
  },
  {
   "cell_type": "code",
   "execution_count": null,
   "id": "located-oregon",
   "metadata": {
    "slideshow": {
     "slide_type": "subslide"
    }
   },
   "outputs": [],
   "source": [
    "import json\n",
    "with open('iex_deep_quotes_and_trades.json') as file:\n",
    "    line = file.readline()\n",
    "    print(line[:500])"
   ]
  },
  {
   "cell_type": "code",
   "execution_count": null,
   "id": "higher-dayton",
   "metadata": {
    "slideshow": {
     "slide_type": "subslide"
    }
   },
   "outputs": [],
   "source": [
    "#Read in json file, many json files that have a schema without \n",
    "#a lot of nesting and variation can be read safely as records\n",
    "from pandas.io.json import read_json\n",
    "\n",
    "json_df = read_json('iex_deep_quotes_and_trades.json',orient='records')\n",
    "display(json_df)"
   ]
  },
  {
   "cell_type": "code",
   "execution_count": null,
   "id": "pointed-plenty",
   "metadata": {
    "slideshow": {
     "slide_type": "subslide"
    }
   },
   "outputs": [],
   "source": [
    "#see what the na situation is\n",
    "json_df.isna().sum()"
   ]
  },
  {
   "cell_type": "code",
   "execution_count": null,
   "id": "relative-beauty",
   "metadata": {
    "slideshow": {
     "slide_type": "subslide"
    }
   },
   "outputs": [],
   "source": [
    "#get rid of columns that are entirely null\n",
    "json_df = json_df.dropna(axis = 1,how='all')\n",
    "display(json_df)"
   ]
  },
  {
   "cell_type": "code",
   "execution_count": null,
   "id": "standing-blogger",
   "metadata": {
    "slideshow": {
     "slide_type": "subslide"
    }
   },
   "outputs": [],
   "source": [
    "#What are we left with?\n",
    "json_df.isna().sum()"
   ]
  },
  {
   "cell_type": "code",
   "execution_count": null,
   "id": "soviet-consciousness",
   "metadata": {
    "slideshow": {
     "slide_type": "subslide"
    }
   },
   "outputs": [],
   "source": [
    "#What data types are we working with?\n",
    "json_df.dtypes"
   ]
  },
  {
   "cell_type": "code",
   "execution_count": null,
   "id": "pleased-mixer",
   "metadata": {
    "slideshow": {
     "slide_type": "subslide"
    }
   },
   "outputs": [],
   "source": [
    "#The objects really should be strings\n",
    "json_df = json_df.astype({'type':'string','symbol':'string','side':'string'})\n",
    "json_df.dtypes"
   ]
  },
  {
   "cell_type": "code",
   "execution_count": null,
   "id": "veterinary-wednesday",
   "metadata": {
    "slideshow": {
     "slide_type": "subslide"
    }
   },
   "outputs": [],
   "source": [
    "#Fill in nulls on the side, since that may cause trouble plotting trades\n",
    "#create a date column for filtering purposes, and change from UTC to EST\n",
    "from datetime import timezone\n",
    "json_df = json_df.fillna({'side':'X'})#replace nulls\n",
    "json_df['date'] = json_df.apply({'timestamp':lambda x: x.date})#a column with just the date can be useful\n",
    "json_df['timestamp'] = json_df['timestamp'].apply(lambda x: x.astimezone(tz='EST').replace(tzinfo=None))#change to local time\n",
    "display(json_df)"
   ]
  },
  {
   "cell_type": "code",
   "execution_count": null,
   "id": "operational-assets",
   "metadata": {
    "slideshow": {
     "slide_type": "subslide"
    }
   },
   "outputs": [],
   "source": [
    "#Create subset that is just the order book updates\n",
    "mask = json_df['type']=='price_level_update'\n",
    "select_cols = ['timestamp','size','price','side']\n",
    "sort_cols = ['timestamp','price']\n",
    "order_df = json_df.loc[mask,select_cols].sort_values(sort_cols)"
   ]
  },
  {
   "cell_type": "code",
   "execution_count": null,
   "id": "moral-species",
   "metadata": {
    "slideshow": {
     "slide_type": "subslide"
    }
   },
   "outputs": [],
   "source": [
    "class PriceLevels(dict):\n",
    "    def ignore_item(self,item):\n",
    "        return self\n",
    "    \n",
    "    def add_or_discard(self,size,price,side,quote_side):\n",
    "        if (size > 0)&(side==quote_side):\n",
    "            self.update({price:size})\n",
    "        elif (size == 0)&(side==quote_side):\n",
    "            self.pop(price)\n",
    "        else:\n",
    "            self.ignore_item\n",
    "        return self\n",
    "    \n",
    "    def get_bbo(self,side):\n",
    "        if (side == 'B')&(len(self)>0):\n",
    "            return max(self.keys())\n",
    "        elif (side == 'S')&(len(self)>0):\n",
    "            return min(self.keys())\n",
    "        else:\n",
    "            return None\n",
    "    \n",
    "    def get_vwap(self):\n",
    "        if len(self)==0:\n",
    "            return None\n",
    "        volume = self\n",
    "        return sum([k*v for k,v in self.items()])/sum([v for v in self.values()])\n",
    "            \n",
    "    def update_prices(self,size,price,side,quote_side):\n",
    "        self.add_or_discard(size,price,side,quote_side)\n",
    "        return PriceLevels(self.copy())"
   ]
  },
  {
   "cell_type": "code",
   "execution_count": null,
   "id": "catholic-brave",
   "metadata": {
    "slideshow": {
     "slide_type": "subslide"
    }
   },
   "outputs": [],
   "source": [
    "a = PriceLevels({45.45:100,50:100,55:50})\n",
    "print('set price levels: ',a)\n",
    "a.update_prices(100,46.05,'B','B')\n",
    "print('update price level same side: ',a)\n",
    "a.update_prices(100,46.10,'S','B')\n",
    "print('update price level opposite side: ',a)\n",
    "a.update_prices(0,50,'B','B')\n",
    "print('remove price same side: ',a)\n",
    "print('get the best bid: ',a.get_bbo('B'))\n",
    "print('get vwap: ',a.get_vwap())"
   ]
  },
  {
   "cell_type": "code",
   "execution_count": null,
   "id": "authentic-coaching",
   "metadata": {
    "slideshow": {
     "slide_type": "subslide"
    }
   },
   "outputs": [],
   "source": [
    "#For each timestamp, find current sizes of each available price, the best bid and offer,\n",
    "#as well as the VWAP (value weighted average price) or the buy orders, sell orders, and all orders\n",
    "bid = PriceLevels()\n",
    "ofr = PriceLevels()\n",
    "quotes = dict()\n",
    "#Use iterrows()\n",
    "for row in order_df.iterrows():\n",
    "    timestamp,size,price,side = row[1]\n",
    "    quotes[timestamp] = {'bid':bid.update_prices(size,price,side,'B'),\n",
    "                         'ofr':ofr.update_prices(size,price,side,'S'),\n",
    "                         'best_bid':bid.get_bbo('B'),\n",
    "                         'bid_vwap':bid.get_vwap(),\n",
    "                         'best_ofr':ofr.get_bbo('S'),\n",
    "                         'ofr_vwap':ofr.get_vwap(),\n",
    "                         'avg_vwap':PriceLevels({**bid,**ofr}).get_vwap(),\n",
    "                         'date':timestamp.date()}"
   ]
  },
  {
   "cell_type": "code",
   "execution_count": null,
   "id": "academic-island",
   "metadata": {
    "slideshow": {
     "slide_type": "subslide"
    }
   },
   "outputs": [],
   "source": [
    "list(quotes.items())[500:504]"
   ]
  },
  {
   "cell_type": "code",
   "execution_count": null,
   "id": "athletic-grave",
   "metadata": {
    "slideshow": {
     "slide_type": "subslide"
    }
   },
   "outputs": [],
   "source": [
    "#Create a dataframe of current in the order book\n",
    "quote_df = (pd.DataFrame\n",
    "            .from_dict(quotes,orient='index')\n",
    "            .reset_index()\n",
    "            .rename(columns={'index':'timestamp'})\n",
    "            .dropna(subset=['best_bid','best_ofr'],how='all'))\n",
    "\n",
    "display(quote_df)"
   ]
  },
  {
   "cell_type": "code",
   "execution_count": null,
   "id": "desperate-missile",
   "metadata": {
    "slideshow": {
     "slide_type": "subslide"
    }
   },
   "outputs": [],
   "source": [
    "#Get just the trades from the original dataframe\n",
    "trade_df = json_df.loc[json_df['type']=='trade_report',:]\n",
    "trade_df"
   ]
  },
  {
   "cell_type": "code",
   "execution_count": null,
   "id": "bibliographic-greece",
   "metadata": {
    "slideshow": {
     "slide_type": "subslide"
    }
   },
   "outputs": [],
   "source": [
    "#Combine the two dataframes so that each trade report is associated with a set of 'prevailing quotes'\n",
    "plot_df = (pd.concat([quote_df,trade_df],ignore_index=False)\n",
    "             .fillna({'type':'quote','symbol':'GME'})\n",
    "             .sort_values(['timestamp','type'])\n",
    "             .drop('side',axis=1)\n",
    "             .ffill()\n",
    "             .dropna(subset=['best_bid','best_ofr'])\n",
    "             .astype({'date':'string'}))\n",
    "\n",
    "plot_df = plot_df.loc[plot_df['type']=='trade_report',:]\n",
    "\n",
    "plot_df['midpt'] = (plot_df['best_bid']+plot_df['best_ofr'])/2"
   ]
  },
  {
   "cell_type": "code",
   "execution_count": null,
   "id": "suspended-pendant",
   "metadata": {
    "scrolled": false,
    "slideshow": {
     "slide_type": "slide"
    }
   },
   "outputs": [],
   "source": [
    "def make_plot(plot_df,date):\n",
    "    import plotly.graph_objects as go\n",
    "    daily_df = plot_df.loc[plot_df.date.astype('string')==date,:]\n",
    "    fig = go.Figure()\n",
    "\n",
    "    fig.add_trace(go.Scatter(x=daily_df['timestamp'],\n",
    "                             y=daily_df['best_bid'],\n",
    "                             mode='markers',\n",
    "                             marker_color='blue',\n",
    "                             opacity = 0.75,\n",
    "                             line_shape='hv',\n",
    "                             name = 'Best Bid'))\n",
    "\n",
    "    fig.add_trace(go.Scatter(x=daily_df['timestamp'],\n",
    "                               y=daily_df['bid_vwap'],\n",
    "                               mode='markers',\n",
    "                               opacity=0.75,\n",
    "                               marker_color='lightblue',\n",
    "                               name='VWAP of Bids',\n",
    "                               visible='legendonly'))\n",
    "\n",
    "    fig.add_trace(go.Scatter(x=daily_df['timestamp'],\n",
    "                             y=daily_df['best_ofr'],\n",
    "                             mode='markers',\n",
    "                             marker_color='red',\n",
    "                             opacity=0.75,\n",
    "                             line_shape='hv',\n",
    "                             name = 'Best Offer'))\n",
    "\n",
    "    fig.add_trace(go.Scatter(x=daily_df['timestamp'],\n",
    "                               y=daily_df['ofr_vwap'],\n",
    "                               mode='markers',\n",
    "                               opacity=0.75,\n",
    "                               marker_color='pink',\n",
    "                               name='VWAP of offers',\n",
    "                               visible='legendonly'))\n",
    "\n",
    "    fig.add_trace(go.Scatter(x=daily_df['timestamp'],\n",
    "                             y=daily_df['price'],\n",
    "                             mode='markers',\n",
    "                             marker_color='green',\n",
    "                             marker_symbol = 'x',\n",
    "                             name = 'Trades'))\n",
    "\n",
    "    fig.add_trace(go.Scatter(x=daily_df['timestamp'],\n",
    "                             y=daily_df['avg_vwap'],\n",
    "                             mode = 'lines',\n",
    "                             line_color = 'orange',\n",
    "                             name='VWAP of Quotes'))\n",
    "    \n",
    "    fig.update_layout(xaxis_tickformat = \"%H:%M:%S.%f\",\n",
    "                      xaxis_title='Time',\n",
    "                      yaxis_title='Price',\n",
    "                      title='Quotes and Trades on IEX for '+date,\n",
    "                      template='plotly_dark')\n",
    "\n",
    "    return fig"
   ]
  },
  {
   "cell_type": "code",
   "execution_count": null,
   "id": "floating-spyware",
   "metadata": {
    "slideshow": {
     "slide_type": "subslide"
    }
   },
   "outputs": [],
   "source": [
    "fig = make_plot(plot_df,\"2021-01-22\")\n",
    "fig.show()"
   ]
  },
  {
   "cell_type": "code",
   "execution_count": null,
   "id": "paperback-chart",
   "metadata": {
    "slideshow": {
     "slide_type": "subslide"
    }
   },
   "outputs": [],
   "source": [
    "fig = make_plot(plot_df,\"2021-01-25\")\n",
    "fig.show()"
   ]
  },
  {
   "cell_type": "code",
   "execution_count": null,
   "id": "finite-canada",
   "metadata": {
    "slideshow": {
     "slide_type": "subslide"
    }
   },
   "outputs": [],
   "source": [
    "fig = make_plot(plot_df,\"2021-01-26\")\n",
    "fig.add_annotation(x=pd.to_datetime('2021-01-26T16:07:00'),\n",
    "                   y=150,\n",
    "                   text=\"Gamestonk!\",\n",
    "                   showarrow=True,\n",
    "                   arrowhead=4)\n",
    "fig.show()"
   ]
  },
  {
   "cell_type": "code",
   "execution_count": null,
   "id": "coordinated-belief",
   "metadata": {
    "slideshow": {
     "slide_type": "subslide"
    }
   },
   "outputs": [],
   "source": [
    "make_plot(plot_df,\"2021-01-27\")"
   ]
  },
  {
   "cell_type": "code",
   "execution_count": null,
   "id": "worthy-humor",
   "metadata": {
    "slideshow": {
     "slide_type": "subslide"
    }
   },
   "outputs": [],
   "source": [
    "make_plot(plot_df,\"2021-01-28\")"
   ]
  },
  {
   "cell_type": "code",
   "execution_count": null,
   "id": "interracial-visit",
   "metadata": {
    "slideshow": {
     "slide_type": "skip"
    }
   },
   "outputs": [],
   "source": [
    "plot_df"
   ]
  },
  {
   "cell_type": "code",
   "execution_count": null,
   "id": "greek-coordination",
   "metadata": {
    "slideshow": {
     "slide_type": "slide"
    }
   },
   "outputs": [],
   "source": [
    "melt_df = plot_df.melt(id_vars=['timestamp','price','date'],\n",
    "                       value_vars = ['avg_vwap','midpt'],\n",
    "                       value_name='Quote',\n",
    "                       var_name='Type')\n",
    "melt_df"
   ]
  },
  {
   "cell_type": "code",
   "execution_count": null,
   "id": "homeless-house",
   "metadata": {
    "slideshow": {
     "slide_type": "subslide"
    }
   },
   "outputs": [],
   "source": [
    "import plotly.express as px\n",
    "\n",
    "\n",
    "\n",
    "fig = px.scatter(melt_df,\n",
    "                 x='Quote',\n",
    "                 y='price',\n",
    "                 opacity = 0.3,\n",
    "                 color='date',\n",
    "                 facet_col='Type')\n",
    "\n",
    "for attribute in fig.layout.annotations:\n",
    "    conversion_dict = {'Type=avg_vwap':'Average VWAP of Quotes',\n",
    "                       'Type=midpt':'Midpoint of BBO'}\n",
    "    attribute.text = conversion_dict[attribute.text]\n",
    "    \n",
    "fig.update_layout(xaxis_title='Quote Price',\n",
    "                  xaxis2_title='Quote Price',\n",
    "                  yaxis_title='Trade Price',\n",
    "                  legend_title='Date',\n",
    "                  title='Actual Trade Price vs Quote Prices',\n",
    "                  template='plotly_dark')\n",
    "\n",
    "fig.add_shape(type=\"line\",\n",
    "              x0=0, y0=0, x1=500, y1=500,\n",
    "              line=dict(color=\"white\",width=3),\n",
    "              row='all',col='all');"
   ]
  },
  {
   "cell_type": "code",
   "execution_count": null,
   "id": "pending-warren",
   "metadata": {
    "slideshow": {
     "slide_type": "subslide"
    }
   },
   "outputs": [],
   "source": [
    "fig.show()"
   ]
  }
 ],
 "metadata": {
  "celltoolbar": "Edit Metadata",
  "kernelspec": {
   "display_name": "Python 3",
   "language": "python",
   "name": "python3"
  },
  "language_info": {
   "codemirror_mode": {
    "name": "ipython",
    "version": 3
   },
   "file_extension": ".py",
   "mimetype": "text/x-python",
   "name": "python",
   "nbconvert_exporter": "python",
   "pygments_lexer": "ipython3",
   "version": "3.8.5"
  }
 },
 "nbformat": 4,
 "nbformat_minor": 5
}
